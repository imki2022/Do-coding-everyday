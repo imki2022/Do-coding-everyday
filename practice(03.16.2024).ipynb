{
 "cells": [
  {
   "cell_type": "markdown",
   "metadata": {},
   "source": [
    "### 포기하지 않기,\n",
    "\n",
    "### 매일하기\n",
    "\n",
    "#### 2024.03.16"
   ]
  },
  {
   "cell_type": "code",
   "execution_count": 2,
   "metadata": {},
   "outputs": [
    {
     "name": "stderr",
     "output_type": "stream",
     "text": [
      "c:\\Python39\\lib\\site-packages\\scipy\\__init__.py:146: UserWarning: A NumPy version >=1.17.3 and <1.25.0 is required for this version of SciPy (detected version 1.26.2\n",
      "  warnings.warn(f\"A NumPy version >={np_minversion} and <{np_maxversion}\"\n"
     ]
    }
   ],
   "source": [
    "import pandas as pd\n",
    "import numpy as np\n",
    "import seaborn as sns\n",
    "import matplotlib.pyplot as plt"
   ]
  },
  {
   "cell_type": "markdown",
   "metadata": {},
   "source": [
    "### 가장 출제 빈도가 높은 것은\n",
    "\n",
    "#### (1) 그리디 Greedy\n",
    "#### (2) 구현 implementation\n",
    "#### (3) DFS/BFS"
   ]
  },
  {
   "cell_type": "markdown",
   "metadata": {},
   "source": [
    "# 그리디: Greedy 알고리즘: 단순하지만 강력한 문제해결법"
   ]
  },
  {
   "cell_type": "markdown",
   "metadata": {},
   "source": [
    "#### 당신은 음석짐의 계산을 도와주는 점원이다. 카운터에는 거스름돈으로 사용할 500원, 100원, 50원, 10원짜리 동전이 무한히 존재한다고 가정한다 \n",
    "#### 손님에게 거슬러 줘야 할 돈이 N원일 때 거슬러 줘야 할 동전의 최소 개수를 구하여라. 단, 거슬러 줘야 할 돈 N은 항상 10의 배수이다."
   ]
  },
  {
   "cell_type": "code",
   "execution_count": 16,
   "metadata": {},
   "outputs": [
    {
     "name": "stdout",
     "output_type": "stream",
     "text": [
      "1670\n",
      "0이어야 정답! 0\n",
      "3\n",
      "1\n",
      "1\n",
      "2\n",
      "7\n"
     ]
    }
   ],
   "source": [
    "\n",
    "\n",
    "a = int(input())\n",
    "# print(a)\n",
    "\n",
    "a = (a//10) * 10\n",
    "\n",
    "c_500 = a//500\n",
    "b = a%500 # 500원 주고 거슬러 줘야 하는 돈\n",
    "\n",
    "c_100 = b//100\n",
    "c = b%100\n",
    "\n",
    "c_50 = c//50\n",
    "d = c%50\n",
    "\n",
    "c_10 = d//10\n",
    "\n",
    "# check \n",
    "e = c%10\n",
    "\n",
    "c_answer = c_500 + c_100 + c_50 + c_10\n",
    "\n",
    "print(a)\n",
    "print('0이어야 정답!',e)\n",
    "print(c_500)\n",
    "print(c_100)\n",
    "print(c_50)\n",
    "print(c_10)\n",
    "print(c_answer)\n",
    "\n",
    "# 하 부끄럽다..\n",
    "\n"
   ]
  },
  {
   "cell_type": "code",
   "execution_count": 18,
   "metadata": {},
   "outputs": [
    {
     "name": "stdout",
     "output_type": "stream",
     "text": [
      "7\n"
     ]
    }
   ],
   "source": [
    "n = int(input(n))\n",
    "count = 0\n",
    "\n",
    "# 큰 화폐대로 차례대로 확인\n",
    "\n",
    "coin_list = [500,100,50,10]\n",
    "\n",
    "for i in coin_list:\n",
    "    count += n//i            # 해당 화폐로 거슬러 줄 수 있는 동전의 개수 세기\n",
    "    n %= i\n",
    "    \n",
    "print(count)\n"
   ]
  },
  {
   "cell_type": "code",
   "execution_count": null,
   "metadata": {},
   "outputs": [],
   "source": []
  },
  {
   "cell_type": "code",
   "execution_count": null,
   "metadata": {},
   "outputs": [],
   "source": []
  },
  {
   "cell_type": "code",
   "execution_count": null,
   "metadata": {},
   "outputs": [],
   "source": []
  },
  {
   "cell_type": "code",
   "execution_count": null,
   "metadata": {},
   "outputs": [],
   "source": []
  }
 ],
 "metadata": {
  "kernelspec": {
   "display_name": "Python 3",
   "language": "python",
   "name": "python3"
  },
  "language_info": {
   "codemirror_mode": {
    "name": "ipython",
    "version": 3
   },
   "file_extension": ".py",
   "mimetype": "text/x-python",
   "name": "python",
   "nbconvert_exporter": "python",
   "pygments_lexer": "ipython3",
   "version": "3.10.1"
  }
 },
 "nbformat": 4,
 "nbformat_minor": 2
}
